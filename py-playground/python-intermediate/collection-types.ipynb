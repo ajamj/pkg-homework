{
 "cells": [
  {
   "attachments": {},
   "cell_type": "markdown",
   "metadata": {},
   "source": [
    "# Python Tingkat Menengah\n",
    "## Pengantar\n",
    "Selamat datang di kursus Python Tingkat Menengah.\n",
    "\n",
    "Dalam kursus ini, Anda akan belajar tentang tipe koleksi Python, fungsi lambda, generator, dekorator, OOP, dan banyak lagi.\n",
    "\n",
    "Kami juga akan membangun proyek nyata dan menyelesaikan beberapa tantangan pemrograman.\n",
    "\n",
    "Kursus ini dirancang untuk pengembang Python tingkat menengah yang sudah menguasai dasar-dasar Python dan ingin memperluas pengetahuannya.\n",
    "\n",
    "    Jika Anda baru mengenal Python, kami sarankan Anda memulai dengan kursus Python untuk Pemula kami."
   ]
  },
  {
   "attachments": {},
   "cell_type": "markdown",
   "metadata": {},
   "source": [
    "## Dictionaries"
   ]
  },
  {
   "attachments": {},
   "cell_type": "markdown",
   "metadata": {},
   "source": [
    "Python menyediakan beberapa jenis koleksi bawaan untuk menyimpan nilai-nilai yang berbeda.\n",
    "\n",
    "Salah satu jenis koleksi ini adalah List, yang memungkinkan Anda menyimpan nilai-nilai yang terindeks:"
   ]
  },
  {
   "cell_type": "code",
   "execution_count": 49,
   "metadata": {},
   "outputs": [
    {
     "name": "stdout",
     "output_type": "stream",
     "text": [
      "welcome\n"
     ]
    }
   ],
   "source": [
    "x = ['hi', 'hello', 'welcome']\n",
    "print(x[2])"
   ]
  },
  {
   "attachments": {},
   "cell_type": "markdown",
   "metadata": {},
   "source": [
    "Setiap item dalam sebuah list memiliki indeks yang secara otomatis ditetapkan.\n",
    "\n",
    "Dictionaries adalah jenis koleksi lainnya yang memungkinkan Anda untuk memetakan kunci-kunci sembarang ke nilai-nilai.\n",
    "\n",
    "Dictionaries dapat diindeks dengan cara yang sama seperti list, menggunakan tanda kurung siku yang berisi kunci-kunci.\n",
    "\n",
    "Contoh:"
   ]
  },
  {
   "cell_type": "code",
   "execution_count": 50,
   "metadata": {},
   "outputs": [
    {
     "name": "stdout",
     "output_type": "stream",
     "text": [
      "24\n",
      "42\n"
     ]
    }
   ],
   "source": [
    "ages = {\n",
    "   \"Dave\": 24,\n",
    "   \"Mary\": 42,\n",
    "   \"John\": 58\n",
    "}\n",
    "print(ages[\"Dave\"])\n",
    "print(ages[\"Mary\"])"
   ]
  },
  {
   "attachments": {},
   "cell_type": "markdown",
   "metadata": {},
   "source": [
    "    Setiap elemen dalam sebuah dictionary direpresentasikan oleh pasangan key:value."
   ]
  },
  {
   "attachments": {},
   "cell_type": "markdown",
   "metadata": {},
   "source": [
    "Hanya objek yang tidak dapat diubah (immutable) yang dapat digunakan sebagai kunci dalam dictionaries. Objek yang tidak dapat diubah adalah objek yang tidak dapat diubah nilainya.\n",
    "\n",
    "Sejauh ini, satu-satunya objek yang dapat diubah (mutable) yang Anda temui adalah list dan dictionary."
   ]
  },
  {
   "attachments": {},
   "cell_type": "markdown",
   "metadata": {},
   "source": [
    "    Ini berarti Anda dapat menggunakan string, integer, boolean, dan jenis immutable lainnya sebagai kunci dalam sebuah dictionary."
   ]
  },
  {
   "attachments": {},
   "cell_type": "markdown",
   "metadata": {},
   "source": [
    "## Dictionary Functions\n",
    "Untuk menentukan apakah sebuah kunci ada dalam sebuah dictionary, Anda dapat menggunakan operator in dan not in, sama seperti yang dapat Anda gunakan untuk list.\n",
    "\n",
    "Contoh:"
   ]
  },
  {
   "cell_type": "code",
   "execution_count": 51,
   "metadata": {},
   "outputs": [
    {
     "name": "stdout",
     "output_type": "stream",
     "text": [
      "True\n",
      "False\n",
      "True\n"
     ]
    }
   ],
   "source": [
    "nums = {\n",
    "  1: \"one\",\n",
    "  2: \"two\",\n",
    "  3: \"three\",\n",
    "}\n",
    "print(1 in nums)\n",
    "print(\"three\" in nums)\n",
    "print(4 not in nums)"
   ]
  },
  {
   "attachments": {},
   "cell_type": "markdown",
   "metadata": {},
   "source": [
    "Salah satu fungsi dictionary yang berguna adalah fungsi get. Fungsi ini melakukan hal yang sama seperti indeks, tetapi jika kunci tidak ditemukan dalam dictionary, ia akan mengembalikan nilai yang telah ditentukan.\n",
    "\n",
    "Contoh:"
   ]
  },
  {
   "cell_type": "code",
   "execution_count": 52,
   "metadata": {},
   "outputs": [
    {
     "name": "stdout",
     "output_type": "stream",
     "text": [
      "[2, 3, 4]\n",
      "42\n",
      "not found\n"
     ]
    }
   ],
   "source": [
    "pairs = {\n",
    "   1: \"apple\",\n",
    "   \"orange\": [2, 3, 4], \n",
    "   True: False, \n",
    "   12: \"True\",\n",
    "}\n",
    "\n",
    "print(pairs.get(\"orange\"))\n",
    "print(pairs.get(7, 42))\n",
    "print(pairs.get(12345, \"not found\"))"
   ]
  },
  {
   "attachments": {},
   "cell_type": "markdown",
   "metadata": {},
   "source": [
    "Untuk mengetahui berapa banyak item yang ada dalam sebuah dictionary, gunakan fungsi `len()`."
   ]
  },
  {
   "attachments": {},
   "cell_type": "markdown",
   "metadata": {},
   "source": [
    "## Tuples"
   ]
  },
  {
   "attachments": {},
   "cell_type": "markdown",
   "metadata": {},
   "source": [
    "Tuple sangat mirip dengan list, kecuali bahwa tuple tidak dapat diubah (immutable), artinya mereka tidak dapat diubah nilainya.\n",
    "\n",
    "Selain itu, tuple dibuat menggunakan tanda kurung, bukan tanda kurung siku.\n",
    "\n",
    "Contoh:"
   ]
  },
  {
   "cell_type": "code",
   "execution_count": 53,
   "metadata": {},
   "outputs": [],
   "source": [
    "words = (\"spam\", \"eggs\", \"sausages\")"
   ]
  },
  {
   "attachments": {},
   "cell_type": "markdown",
   "metadata": {},
   "source": [
    "Anda dapat mengakses nilai-nilai dalam tuple dengan menggunakan indeks, sama seperti yang Anda lakukan dengan list:"
   ]
  },
  {
   "cell_type": "code",
   "execution_count": 54,
   "metadata": {},
   "outputs": [
    {
     "name": "stdout",
     "output_type": "stream",
     "text": [
      "spam\n"
     ]
    }
   ],
   "source": [
    "print(words[0])"
   ]
  },
  {
   "attachments": {},
   "cell_type": "markdown",
   "metadata": {},
   "source": [
    "Jika kamu mencoba untuk mengubah nilai dalam sebuah tuple, maka akan menyebabkan terjadinya error."
   ]
  },
  {
   "attachments": {},
   "cell_type": "markdown",
   "metadata": {},
   "source": [
    "    Seperti list dan dictionary, tuple dapat disarangkan (nested) satu sama lain."
   ]
  },
  {
   "attachments": {},
   "cell_type": "markdown",
   "metadata": {},
   "source": [
    "Tuple dapat dibuat tanpa menggunakan tanda kurung dengan hanya memisahkan nilai-nilainya dengan tanda koma.\n",
    "\n",
    "Contoh:"
   ]
  },
  {
   "cell_type": "code",
   "execution_count": 55,
   "metadata": {},
   "outputs": [
    {
     "name": "stdout",
     "output_type": "stream",
     "text": [
      "one\n"
     ]
    }
   ],
   "source": [
    "my_tuple = \"one\", \"two\", \"three\"\n",
    "print(my_tuple[0])"
   ]
  },
  {
   "attachments": {},
   "cell_type": "markdown",
   "metadata": {},
   "source": [
    "## Tuple Unpacking"
   ]
  },
  {
   "attachments": {},
   "cell_type": "markdown",
   "metadata": {},
   "source": [
    "Tuple unpacking memungkinkan Anda untuk mengassign setiap item dalam sebuah koleksi ke sebuah variabel.\n",
    "\n",
    "Contoh:"
   ]
  },
  {
   "cell_type": "code",
   "execution_count": 56,
   "metadata": {},
   "outputs": [
    {
     "name": "stdout",
     "output_type": "stream",
     "text": [
      "1\n",
      "2\n",
      "3\n"
     ]
    }
   ],
   "source": [
    "numbers = (1, 2, 3)\n",
    "a, b, c = numbers\n",
    "print(a)\n",
    "print(b)\n",
    "print(c)"
   ]
  },
  {
   "attachments": {},
   "cell_type": "markdown",
   "metadata": {},
   "source": [
    "    Ini juga dapat digunakan untuk menukar nilai variabel dengan melakukan a, b = b, a, karena b, a di sisi kanan membentuk tuple (b, a) yang kemudian di-unpack."
   ]
  },
  {
   "attachments": {},
   "cell_type": "markdown",
   "metadata": {},
   "source": [
    "Variabel yang diawali dengan tanda asterisk (*) mengambil semua nilai dari koleksi yang tersisa setelah variabel-variabel lainnya diambil.\n",
    "\n",
    "Contoh:"
   ]
  },
  {
   "cell_type": "code",
   "execution_count": 57,
   "metadata": {},
   "outputs": [
    {
     "name": "stdout",
     "output_type": "stream",
     "text": [
      "1\n",
      "2\n",
      "[3, 4, 5, 6, 7, 8]\n",
      "9\n"
     ]
    }
   ],
   "source": [
    "a, b, *c, d = [1, 2, 3, 4, 5, 6, 7, 8, 9]\n",
    "print(a)\n",
    "print(b)\n",
    "print(c)\n",
    "print(d)"
   ]
  },
  {
   "attachments": {},
   "cell_type": "markdown",
   "metadata": {},
   "source": [
    "    Variabel c akan mendapatkan nilai dari 3 hingga 8."
   ]
  },
  {
   "attachments": {},
   "cell_type": "markdown",
   "metadata": {},
   "source": [
    "## Sets"
   ]
  },
  {
   "attachments": {},
   "cell_type": "markdown",
   "metadata": {},
   "source": [
    "Set mirip dengan list atau dictionary.\n",
    "\n",
    "Set dibuat menggunakan kurung kurawal dan tidak memiliki urutan, sehingga tidak dapat diindeks.\n",
    "\n",
    "Karena cara penyimpanannya, memeriksa apakah sebuah item ada dalam sebuah set menggunakan operator in lebih cepat daripada dalam sebuah list."
   ]
  },
  {
   "cell_type": "code",
   "execution_count": 58,
   "metadata": {},
   "outputs": [
    {
     "name": "stdout",
     "output_type": "stream",
     "text": [
      "True\n"
     ]
    }
   ],
   "source": [
    "num_set = {1, 2, 3, 4, 5}\n",
    "\n",
    "print(3 in num_set)"
   ]
  },
  {
   "attachments": {},
   "cell_type": "markdown",
   "metadata": {},
   "source": [
    "    Set tidak dapat mengandung elemen duplikat."
   ]
  },
  {
   "attachments": {},
   "cell_type": "markdown",
   "metadata": {},
   "source": [
    "Anda dapat menggunakan fungsi `add()` untuk menambahkan item baru ke dalam set, dan `remove()` untuk menghapus elemen tertentu:"
   ]
  },
  {
   "cell_type": "code",
   "execution_count": 59,
   "metadata": {},
   "outputs": [
    {
     "name": "stdout",
     "output_type": "stream",
     "text": [
      "{1, 2, 3, 4, 5, 6}\n",
      "{1, 2, 4, 5, 6, -7}\n"
     ]
    }
   ],
   "source": [
    "nums = {1, 2, 1, 3, 1, 4, 5, 6}\n",
    "print(nums)\n",
    "nums.add(-7)\n",
    "nums.remove(3)\n",
    "print(nums)"
   ]
  },
  {
   "attachments": {},
   "cell_type": "markdown",
   "metadata": {},
   "source": [
    "Elemen duplikat secara otomatis akan dihapus dari set."
   ]
  },
  {
   "attachments": {},
   "cell_type": "markdown",
   "metadata": {},
   "source": [
    "    Fungsi len() dapat digunakan untuk mengembalikan jumlah elemen dalam sebuah set."
   ]
  },
  {
   "attachments": {},
   "cell_type": "markdown",
   "metadata": {},
   "source": [
    "Set dapat digabungkan menggunakan operasi matematika.\n",
    "\n",
    "Operator gabungan | menggabungkan dua set untuk membentuk set baru yang berisi item di salah satu atau keduanya.\n",
    "\n",
    "Operator irisan & mengambil item yang hanya ada di kedua set.\n",
    "\n",
    "Operator perbedaan - mengambil item yang ada di set pertama tetapi tidak ada di set kedua.\n",
    "\n",
    "Operator perbedaan simetris ^ mengambil item yang ada di salah satu set, tetapi tidak ada di kedua set.\n",
    "\n",
    "Contoh:"
   ]
  },
  {
   "cell_type": "code",
   "execution_count": 60,
   "metadata": {},
   "outputs": [
    {
     "ename": "SyntaxError",
     "evalue": "incomplete input (1334090749.py, line 8)",
     "output_type": "error",
     "traceback": [
      "\u001b[1;36m  Cell \u001b[1;32mIn[60], line 8\u001b[1;36m\u001b[0m\n\u001b[1;33m    print(first ^ second\u001b[0m\n\u001b[1;37m                        ^\u001b[0m\n\u001b[1;31mSyntaxError\u001b[0m\u001b[1;31m:\u001b[0m incomplete input\n"
     ]
    }
   ],
   "source": [
    "first = {1, 2, 3, 4, 5, 6}\n",
    "second = {4, 5, 6, 7, 8, 9}\n",
    "\n",
    "print(first | second)\n",
    "print(first & second)\n",
    "print(first - second)\n",
    "print(second - first)\n",
    "print(first ^ second\n"
   ]
  },
  {
   "attachments": {},
   "cell_type": "markdown",
   "metadata": {},
   "source": [
    "## List Comprehensions"
   ]
  },
  {
   "attachments": {},
   "cell_type": "markdown",
   "metadata": {},
   "source": [
    "List comprehensions adalah cara yang berguna untuk dengan cepat membuat list yang isinya mengikuti aturan tertentu.\n",
    "\n",
    "Sebagai contoh, kita dapat melakukan hal berikut:"
   ]
  },
  {
   "cell_type": "code",
   "execution_count": null,
   "metadata": {},
   "outputs": [],
   "source": [
    "cubes = [i**3 for i in range(5)]\n",
    "\n",
    "print(cubes)"
   ]
  },
  {
   "attachments": {},
   "cell_type": "markdown",
   "metadata": {},
   "source": [
    "    List comprehensions diilhami oleh notasi pembangun himpunan dalam matematika."
   ]
  },
  {
   "attachments": {},
   "cell_type": "markdown",
   "metadata": {},
   "source": [
    "List comprehensions juga dapat mengandung pernyataan if untuk mengenakan kondisi pada nilai-nilai dalam list.\n",
    "\n",
    "Contoh:"
   ]
  },
  {
   "cell_type": "code",
   "execution_count": null,
   "metadata": {},
   "outputs": [],
   "source": [
    "evens=[i**2 for i in range(10) if i**2 % 2 == 0]\n",
    "\n",
    "print(evens)"
   ]
  },
  {
   "attachments": {},
   "cell_type": "markdown",
   "metadata": {},
   "source": [
    "## Summary"
   ]
  },
  {
   "attachments": {},
   "cell_type": "markdown",
   "metadata": {},
   "source": [
    "Berikut adalah beberapa kesimpulan yang dapat diambil:\n",
    "\n",
    "1. Python menyediakan berbagai jenis koleksi bawaan, seperti list, dictionary, tuple, dan set, yang masing-masing memiliki karakteristik dan kegunaan yang berbeda.\n",
    "\n",
    "2. List adalah jenis koleksi yang dapat diindeks, sedangkan dictionary memetakan kunci ke nilai.\n",
    "\n",
    "3. Immutable objects seperti string, integer, dan boolean dapat digunakan sebagai kunci dalam dictionary, sementara list dan dictionary tidak dapat digunakan sebagai kunci karena mereka adalah objek yang dapat diubah.\n",
    "\n",
    "4. Tuple adalah koleksi yang tidak dapat diubah, dibuat dengan menggunakan tanda kurung.\n",
    "\n",
    "5. Tuple unpacking memungkinkan untuk mengassign nilai dari sebuah tuple ke variabel-variabel terpisah.\n",
    "\n",
    "6. Set adalah koleksi tanpa urutan yang tidak dapat mengandung elemen duplikat.\n",
    "\n",
    "7. Fungsi `len()` digunakan untuk menghitung jumlah elemen dalam list atau set.\n",
    "\n",
    "8. Operator matematika seperti union `(|)`, intersection `(&)`, difference `(-)`, dan symmetric difference `(^)` dapat digunakan untuk menggabungkan atau memanipulasi set.\n",
    "\n",
    "9. List comprehensions adalah cara yang efisien untuk membuat list berdasarkan aturan tertentu atau dengan menerapkan kondisi tertentu pada nilai-nilai dalam list.\n",
    "\n",
    "10. List comprehensions diilhami oleh notasi pembangun himpunan dalam matematika.\n",
    "\n",
    "Berikut adalah beberapa kesimpulan tambahan yang dapat diambil dari pesan-pesan yang telah dikirimkan:\n",
    "\n",
    "11. List comprehensions memungkinkan pembuatan list dengan sintaks yang ringkas dan ekspresif, sehingga memudahkan pengguna untuk membuat list dengan aturan yang kompleks.\n",
    "\n",
    "12. Dalam set, elemen-elemen duplikat secara otomatis dihapus saat menambahkannya ke dalam set, sehingga set selalu berisi elemen yang unik.\n",
    "\n",
    "13. Python menyediakan berbagai fungsi bawaan seperti `add()` untuk menambahkan item baru ke dalam set dan `remove()` untuk menghapus item tertentu dari set.\n",
    "\n",
    "14. Dalam list comprehension, pernyataan if dapat digunakan untuk menerapkan kondisi pada elemen-elemen yang dimasukkan ke dalam list. Hanya elemen yang memenuhi kondisi tersebut yang akan dimasukkan ke dalam list.\n",
    "\n",
    "15. Penggunaan list comprehension dan set comprehension dapat membantu menghasilkan kode Python yang lebih ringkas, mudah dibaca, dan efisien.\n",
    "\n",
    "16. Python memiliki berbagai koleksi dan alat bantu yang kuat untuk memanipulasi dan mengelola data dalam berbagai skenario pemrograman.\n",
    "\n",
    "17. Memahami berbagai jenis koleksi dan teknik yang terkait, seperti list comprehensions, dapat membantu meningkatkan efisiensi dan kualitas kode Python.\n",
    "\n",
    "18. Python adalah bahasa pemrograman yang populer dan kuat untuk pengembangan perangkat lunak, dan memiliki banyak fitur yang mendukung pemrosesan data dan manipulasi koleksi.\n",
    "\n",
    "19. Pemahaman yang baik tentang berbagai jenis koleksi dan teknik yang ada dalam Python dapat membantu dalam memecahkan masalah pemrograman dengan lebih efektif dan efisien.\n",
    "\n",
    "20. Teruslah belajar dan eksplorasi lebih lanjut tentang Python dan fitur-fiturnya untuk mengembangkan keterampilan pemrograman yang lebih baik dan efektif."
   ]
  }
 ],
 "metadata": {
  "kernelspec": {
   "display_name": "base",
   "language": "python",
   "name": "python3"
  },
  "language_info": {
   "codemirror_mode": {
    "name": "ipython",
    "version": 3
   },
   "file_extension": ".py",
   "mimetype": "text/x-python",
   "name": "python",
   "nbconvert_exporter": "python",
   "pygments_lexer": "ipython3",
   "version": "3.10.10"
  },
  "orig_nbformat": 4
 },
 "nbformat": 4,
 "nbformat_minor": 2
}
