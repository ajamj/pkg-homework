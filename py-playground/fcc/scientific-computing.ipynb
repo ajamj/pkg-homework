{
 "cells": [
  {
   "cell_type": "code",
   "execution_count": 4,
   "metadata": {},
   "outputs": [
    {
     "name": "stdout",
     "output_type": "stream",
     "text": [
      "['Ini', 'adalah', 'contoh', 'teks', '123', 'yang', 'ingin', 'kita', 'proses.']\n"
     ]
    }
   ],
   "source": [
    "import re\n",
    "\n",
    "text = \"Ini adalah contoh teks 123 yang ingin kita proses.\"\n",
    "pattern = r\"\\S+\"  # Pola regex untuk mencocokkan angka-angka\n",
    "\n",
    "matches = re.findall(pattern, text)\n",
    "print(matches)  # Output: ['123']\n"
   ]
  }
 ],
 "metadata": {
  "kernelspec": {
   "display_name": "base",
   "language": "python",
   "name": "python3"
  },
  "language_info": {
   "codemirror_mode": {
    "name": "ipython",
    "version": 3
   },
   "file_extension": ".py",
   "mimetype": "text/x-python",
   "name": "python",
   "nbconvert_exporter": "python",
   "pygments_lexer": "ipython3",
   "version": "3.10.11"
  },
  "orig_nbformat": 4
 },
 "nbformat": 4,
 "nbformat_minor": 2
}
